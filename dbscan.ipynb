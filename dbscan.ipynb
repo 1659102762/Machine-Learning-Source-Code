{
 "cells": [
  {
   "cell_type": "code",
   "execution_count": 59,
   "id": "a72a72b2-fb94-4b74-985e-8c16dad2fba9",
   "metadata": {},
   "outputs": [
    {
     "name": "stdout",
     "output_type": "stream",
     "text": [
      "{'cluster 1': [[2, 3], [3, 2], [3, 3], [2, 2]], 'cluster 2': [[0, 1], [1, 0], [1, 1], [0, 0]], 'noise': []}\n"
     ]
    },
    {
     "data": {
      "text/plain": [
       "<matplotlib.collections.PathCollection at 0x1d59f768ef0>"
      ]
     },
     "execution_count": 59,
     "metadata": {},
     "output_type": "execute_result"
    },
    {
     "data": {
      "image/png": "[encoded data removed]",
      "text/plain": [
       "<Figure size 640x480 with 1 Axes>"
      ]
     },
     "metadata": {},
     "output_type": "display_data"
    }
   ],
   "source": [
    "class dbscan:\n",
    "    eps=None\n",
    "    minpts=None\n",
    "    def __init__(self,eps,minpts):\n",
    "        self.eps=eps\n",
    "        self.minpts=minpts\n",
    "    def fit(self,x):   \n",
    "        def round(points,x):\n",
    "            '''\n",
    "            This function outputs all the  data points within the neighborhood round of a single data point,\n",
    "            and decide wether or not it is dense.\n",
    "            'points' is a list of  selected data points.\n",
    "            'x' is a 2-dimension array of features of all the data points.\n",
    "            \n",
    "            '''\n",
    "            import numpy as np\n",
    "            result=[]\n",
    "            for point in points:\n",
    "                distances=np.sqrt(np.sum((x-np.array(point))**2,axis=1))\n",
    "                if x[distances<=self.eps].shape[0]>=self.minpts:\n",
    "                    result.append(x[distances<=self.eps].tolist())\n",
    "            return [item for sublist in result for item in sublist]\n",
    "        \n",
    "        def dedouble(lst):\n",
    "            '''\n",
    "            This function remove the duplicate 1-dimension lists in a 3-dimension list\n",
    "        \n",
    "            '''\n",
    "            return list({tuple(sublist) for sublist in lst})\n",
    "        \n",
    "        def cluster(x):\n",
    "            '''\n",
    "            This function outputs all the data points that is the core points or within the neighborhood of core points as a cluster\n",
    "        \n",
    "            '''\n",
    "            import numpy as np\n",
    "            x_index=np.arange(x.shape[0])\n",
    "            if x_index.shape[0]==0:\n",
    "                return []\n",
    "            selected_intial_point_index=np.random.RandomState(123).choice(x_index)\n",
    "            selected_intial_point=x[selected_intial_point_index]\n",
    "            results=[]\n",
    "            points=round(selected_intial_point,x)\n",
    "            results.append(points)\n",
    "            while True:\n",
    "                points=round(points,x)\n",
    "                results.append(dedouble(points))\n",
    "                if results[-2]==results[-1]:\n",
    "                    break\n",
    "            return [list(item) for item in dedouble(points)]\n",
    "            \n",
    "        def delete_points(x):\n",
    "            '''\n",
    "            This function delete the points in a cluster from all data points for the convenience of select an intial point \n",
    "            for the next cluster.\n",
    "        \n",
    "            '''\n",
    "            x_list=x.tolist()\n",
    "            for point in cluster(x):\n",
    "                x_list.remove(point)\n",
    "            x=np.array(x_list)\n",
    "            return x\n",
    "            \n",
    "        clusters=[]\n",
    "        while True:\n",
    "            if cluster(x)==[]:       \n",
    "                break\n",
    "            clusters.append(cluster(x))\n",
    "            x=delete_points(x)\n",
    "        noise=x.tolist()\n",
    "        keys=[]\n",
    "        for i in range(1,len(clusters)+1):\n",
    "            keys.append(f'cluster {i}')\n",
    "        keys.append('noise')\n",
    "        clusters.append(noise)\n",
    "        self.clusters_noise=clusters\n",
    "        final_result=dict(zip(keys,clusters))\n",
    "        self.final_result=final_result\n",
    "                \n",
    "    def predict(self,x):\n",
    "        return self.final_result\n",
    "\n",
    " #test\n",
    "x=np.array([[1,1],[0,0],[0,1],[1,0],[2,2],[2,3],[3,2],[3,3]])\n",
    "clf=dbscan(1,3)\n",
    "clf.fit(x)\n",
    "print(clf.predict(x))\n",
    "result=clf.predict(x)\n",
    "#graph\n",
    "import matplotlib.pyplot as plt\n",
    "fig,ax=plt.subplots()\n",
    "ax.scatter(result['cluster 1'][:][0],result['cluster 1'][:][1],color='blue')\n",
    "ax.scatter(result['cluster 2'][:][0],result['cluster 2'][:][1],color='red')\n",
    "\n",
    "\n"
   ]
  }
 ],
 "metadata": {
  "kernelspec": {
   "display_name": "Python 3 (ipykernel)",
   "language": "python",
   "name": "python3"
  },
  "language_info": {
   "codemirror_mode": {
    "name": "ipython",
    "version": 3
   },
   "file_extension": ".py",
   "mimetype": "text/x-python",
   "name": "python",
   "nbconvert_exporter": "python",
   "pygments_lexer": "ipython3",
   "version": "3.12.4"
  }
 },
 "nbformat": 4,
 "nbformat_minor": 5
}
